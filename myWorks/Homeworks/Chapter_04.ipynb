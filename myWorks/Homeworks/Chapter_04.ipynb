{
 "cells": [
  {
   "cell_type": "markdown",
   "metadata": {},
   "source": [
    "# แบบฝึกหัดบทที่ 4 พื้นฐานโปรแกรมไพธอน"
   ]
  },
  {
   "cell_type": "code",
   "execution_count": 4,
   "metadata": {},
   "outputs": [
    {
     "data": {
      "text/plain": [
       "' \\nชื่อ - สกุล - รหัสนักศึกษา \\nศิริวรรณ หาญธัญกิจ 6412732115\\n\\n\\n'"
      ]
     },
     "execution_count": 4,
     "metadata": {},
     "output_type": "execute_result"
    }
   ],
   "source": [
    "\"\"\" \n",
    "ชื่อ - สกุล - รหัสนักศึกษา \n",
    "ศิริวรรณ หาญธัญกิจ 6412732115\n",
    "\n",
    "\n",
    "\"\"\""
   ]
  },
  {
   "cell_type": "markdown",
   "metadata": {},
   "source": [
    "## 1. จงอธิบายความหมายของคำว่า Syntax"
   ]
  },
  {
   "cell_type": "code",
   "execution_count": 5,
   "metadata": {},
   "outputs": [
    {
     "ename": "SyntaxError",
     "evalue": "invalid syntax (<ipython-input-5-030382906463>, line 2)",
     "output_type": "error",
     "traceback": [
      "\u001b[1;36m  File \u001b[1;32m\"<ipython-input-5-030382906463>\"\u001b[1;36m, line \u001b[1;32m2\u001b[0m\n\u001b[1;33m    หลักไวยากรณ์ คือ ...... กฎที่ระบุลำดับของสัญลักษณ์ที่ถูกต้อง ซึ่งสามารถนำมาใช้เพื่อจัดรูปแบบโปรแกรมที่มีโครงสร้างถูกต้อง โดยใช้ภาษาโปรแกรมที่กำหนด นักพัฒนาโปรแกรมสามารถทำการสื่อสารกับคอมพิวเตอร์ผ่านโครงสร้างไวยากรณ์ ความหมาย(Semantics)และหลักภาษา(Grammar)ของภาษาโปรแกรมที่มีความถูกต้อง ภาษาโปรแกรมหลายภาษามีกฎไวยากรณ์ที่คล้ายๆกันในขณะที่ภาษาอื่นๆมีการออกแบบไวยากรณ์ที่ไม่ซ้ำกัน ตัวอย่างเช่น C และ Java ใช้ไวยากรณ์ที่คล้ายกันในขณะที่ภาษา Perl มีหลายลักษณะที่ไม่มีในภาษา C หรือ Java\u001b[0m\n\u001b[1;37m                 ^\u001b[0m\n\u001b[1;31mSyntaxError\u001b[0m\u001b[1;31m:\u001b[0m invalid syntax\n"
     ]
    }
   ],
   "source": [
    "# คำตอบ\n",
    "หลักไวยากรณ์ คือ ...... กฎที่ระบุลำดับของสัญลักษณ์ที่ถูกต้อง ซึ่งสามารถนำมาใช้เพื่อจัดรูปแบบโปรแกรมที่มีโครงสร้างถูกต้อง โดยใช้ภาษาโปรแกรมที่กำหนด นักพัฒนาโปรแกรมสามารถทำการสื่อสารกับคอมพิวเตอร์ผ่านโครงสร้างไวยากรณ์ ความหมาย(Semantics)และหลักภาษา(Grammar)ของภาษาโปรแกรมที่มีความถูกต้อง ภาษาโปรแกรมหลายภาษามีกฎไวยากรณ์ที่คล้ายๆกันในขณะที่ภาษาอื่นๆมีการออกแบบไวยากรณ์ที่ไม่ซ้ำกัน ตัวอย่างเช่น C และ Java ใช้ไวยากรณ์ที่คล้ายกันในขณะที่ภาษา Perl มีหลายลักษณะที่ไม่มีในภาษา C หรือ Java "
   ]
  },
  {
   "cell_type": "markdown",
   "metadata": {},
   "source": [
    "## 2.จงอธิบายความหมายของคำว่า Semantics"
   ]
  },
  {
   "cell_type": "code",
   "execution_count": null,
   "metadata": {},
   "outputs": [],
   "source": [
    "# คำตอบ\n",
    "ความหมายในไวยากรณ์\n"
   ]
  },
  {
   "cell_type": "markdown",
   "metadata": {},
   "source": [
    "## 3.Identifiers คืออะไร"
   ]
  },
  {
   "cell_type": "code",
   "execution_count": null,
   "metadata": {},
   "outputs": [],
   "source": [
    "# คำตอบ\n",
    "ชื่อที่ใช้ในการระบุตัวแปร ฟังก์ชัน คลาส โมดูล หรือวีตถุอื่นๆ Identifiers เริ่มต้นด้วยอักษร A ถึง Z หรือจาก a ถึง z หรือเครื่องหมายขีดล่าง (_) และสามารถตามด้วยตัวอักษรตั้งแต่หนึ่งตัวหรือมากกว่านั้น หรืออาจตามด้วยเครื่องหมายขีดล่างหรือตามด้วยตัวเลขตั้งแต่0 ถึง 9 โดยไพธอนไม่อนุญาติให้ใช้อักขระพิเศษภายใน Identiers เช่น @,$ และ %\n"
   ]
  },
  {
   "cell_type": "markdown",
   "metadata": {},
   "source": [
    "## 4.คำสงวนในภาษาไพธอนคืออะไร และมีทั้งหมดกี่คำ"
   ]
  },
  {
   "cell_type": "code",
   "execution_count": null,
   "metadata": {},
   "outputs": [],
   "source": [
    "# คำตอบ\n",
    "คือคำที่แสดงคำที่แสดงคำแสดง (Keywords) ของไพธอนเหล่านี้เป็นคำสงวน และเราจะไม่สามารถใช้เป็นค่าคงที่หรือตัวแปร หรือ Identifiers อื่นๆได้ คำหลักทั้งหมดไพธอนจะใช้ตัวพิมพ์เล็กเท่านั้น และมีทั้งหมด31 คำ\n"
   ]
  },
  {
   "cell_type": "markdown",
   "metadata": {},
   "source": [
    "## 5.จงเขียนโปรแกรมไพธอนเพื่อรับข้อมูล ที่เป็นชื่อผู้ใช้งานจากแป้นพิมพ์และแสดงออกทางหน้าจอ"
   ]
  },
  {
   "cell_type": "code",
   "execution_count": 15,
   "metadata": {},
   "outputs": [
    {
     "name": "stdout",
     "output_type": "stream",
     "text": [
      "Siriwan Hanthanyakit\n"
     ]
    }
   ],
   "source": [
    "# พิมพ์โค้ดโปรแกรมด้านล่างนี้\n",
    "a = input(\"your name\")\n",
    "print(a)"
   ]
  },
  {
   "cell_type": "markdown",
   "metadata": {},
   "source": [
    "## 6.จงเขียนโปรแกรมเพื่อแสดงค่าของ pi คือ 3.14159 ออกทางหน้าจอโดยทำการกำหนดรูปแบบในการแสดงผลดังต่อไปนี้\n",
    "\n",
    "- pi = 3\n",
    "- pi = 3.14\n",
    "- pi = 3.1416\n"
   ]
  },
  {
   "cell_type": "code",
   "execution_count": 23,
   "metadata": {},
   "outputs": [
    {
     "name": "stdout",
     "output_type": "stream",
     "text": [
      "pi = 3\n"
     ]
    }
   ],
   "source": [
    "# พิมพ์โค้ดโปรแกรมด้านล่างนี้\n",
    "print(\"pi = {0:.0f}\".format(3))\n"
   ]
  },
  {
   "cell_type": "markdown",
   "metadata": {},
   "source": []
  },
  {
   "cell_type": "markdown",
   "metadata": {},
   "source": [
    "## 7.\tจงเขียนโปรแกรมที่แสดงคำว่า \"dog\", \"cat\", \"bat\" ออกทางหน้าจอ โดยกำหนดรูปแบบในการแสดงดังต่อไปนี้"
   ]
  },
  {
   "cell_type": "code",
   "execution_count": null,
   "metadata": {},
   "outputs": [],
   "source": [
    "\"\"\" \n",
    "|dog       |   cat    |       bat| \n",
    "\"\"\""
   ]
  },
  {
   "cell_type": "code",
   "execution_count": null,
   "metadata": {},
   "outputs": [],
   "source": [
    "# พิมพ์โค้ดโปรแกรมด้านล่างนี้\n",
    "\n"
   ]
  },
  {
   "cell_type": "markdown",
   "metadata": {},
   "source": [
    "## 8.\tจงเขียนโปรแกรมที่แสดงคำว่า \"dog\", \"cat\", \"bat\" ออกทางหน้าจอ โดยกำหนดรูปแบบในการแสดงดังต่อไปนี้"
   ]
  },
  {
   "cell_type": "code",
   "execution_count": null,
   "metadata": {},
   "outputs": [],
   "source": [
    "\"\"\" \n",
    "|dog*******|***cat****|*******bat| \n",
    "\"\"\""
   ]
  },
  {
   "cell_type": "code",
   "execution_count": null,
   "metadata": {},
   "outputs": [],
   "source": [
    "# พิมพ์โค้ดโปรแกรมด้านล่างนี้\n",
    "\n"
   ]
  }
 ],
 "metadata": {
  "interpreter": {
   "hash": "40d3a090f54c6569ab1632332b64b2c03c39dcf918b08424e98f38b5ae0af88f"
  },
  "kernelspec": {
   "display_name": "Python 3",
   "language": "python",
   "name": "python3"
  },
  "language_info": {
   "codemirror_mode": {
    "name": "ipython",
    "version": 3
   },
   "file_extension": ".py",
   "mimetype": "text/x-python",
   "name": "python",
   "nbconvert_exporter": "python",
   "pygments_lexer": "ipython3",
   "version": "3.7.6"
  }
 },
 "nbformat": 4,
 "nbformat_minor": 4
}
